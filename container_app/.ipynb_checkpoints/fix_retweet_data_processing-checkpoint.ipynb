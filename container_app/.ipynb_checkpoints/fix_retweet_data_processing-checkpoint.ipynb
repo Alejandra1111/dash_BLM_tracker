{
 "cells": [
  {
   "cell_type": "code",
   "execution_count": 1,
   "metadata": {},
   "outputs": [],
   "source": [
    "import glob\n",
    "from datetime import datetime\n",
    "import numpy as np\n",
    "import pandas as pd\n",
    "import time"
   ]
  },
  {
   "cell_type": "code",
   "execution_count": 6,
   "metadata": {},
   "outputs": [],
   "source": [
    "from processing_helpers import * "
   ]
  },
  {
   "cell_type": "code",
   "execution_count": 14,
   "metadata": {},
   "outputs": [],
   "source": [
    "data_source = '/Users/kotaminegishi/big_data_training/python/dash_demo1/'\n",
    "data_dest = '/Users/kotaminegishi/big_data_training/python/dash_demo1/'\n",
    "\n",
    "files_2 = glob.glob(data_source + \"BLM_tweet_retweet_*/*/*/*/*\")\n"
   ]
  },
  {
   "cell_type": "code",
   "execution_count": 20,
   "metadata": {},
   "outputs": [],
   "source": [
    "existing_files_2 = pd.read_csv(data_dest + 'data_filenames/files_read_BLM_tweet_retweet.csv')\n",
    "new_files_2 = [file for file in files_2 if file.split(data_source)[1] not in np.array(existing_files_2.name)]\n",
    "    "
   ]
  },
  {
   "cell_type": "code",
   "execution_count": 21,
   "metadata": {},
   "outputs": [
    {
     "name": "stdout",
     "output_type": "stream",
     "text": [
      "retweet files:\n",
      "/Users/kotaminegishi/big_data_training/python/dash_demo1/BLM_tweet_retweet_2020/07/10/17/BLM_tweet_retweet_delivery-1-2020-07-10-17-32-23-cdfd7cd7-6fba-4f54-b056-50b4d3d08964\n",
      "/Users/kotaminegishi/big_data_training/python/dash_demo1/BLM_tweet_retweet_2020/07/13/16/BLM_tweet_retweet_delivery-1-2020-07-13-16-25-32-f48cf0de-0d14-4e7b-97f7-2d765174480b\n"
     ]
    },
    {
     "data": {
      "text/plain": [
       "[None, None]"
      ]
     },
     "execution_count": 21,
     "metadata": {},
     "output_type": "execute_result"
    }
   ],
   "source": [
    "#new_files_2 = files_2\n",
    "print('retweet files:')\n",
    "[ print(file) for file in new_files_2]"
   ]
  },
  {
   "cell_type": "code",
   "execution_count": 10,
   "metadata": {},
   "outputs": [
    {
     "data": {
      "text/plain": [
       "True"
      ]
     },
     "execution_count": 10,
     "metadata": {},
     "output_type": "execute_result"
    }
   ],
   "source": [
    "new_retweet = len(new_files_2)>0\n",
    "new_retweet "
   ]
  },
  {
   "cell_type": "code",
   "execution_count": 7,
   "metadata": {},
   "outputs": [
    {
     "ename": "TypeError",
     "evalue": "object of type 'new_tw_data' has no len()",
     "output_type": "error",
     "traceback": [
      "\u001b[0;31m---------------------------------------------------------------------------\u001b[0m",
      "\u001b[0;31mTypeError\u001b[0m                                 Traceback (most recent call last)",
      "\u001b[0;32m<ipython-input-7-ab88887aec3e>\u001b[0m in \u001b[0;36m<module>\u001b[0;34m\u001b[0m\n\u001b[1;32m      1\u001b[0m \u001b[0mrt\u001b[0m  \u001b[0;34m=\u001b[0m \u001b[0mnew_tw_data\u001b[0m\u001b[0;34m(\u001b[0m\u001b[0mnew_files_2\u001b[0m\u001b[0;34m,\u001b[0m \u001b[0mtype\u001b[0m\u001b[0;34m=\u001b[0m\u001b[0;34m'retweet'\u001b[0m\u001b[0;34m)\u001b[0m\u001b[0;34m\u001b[0m\u001b[0;34m\u001b[0m\u001b[0m\n\u001b[0;32m----> 2\u001b[0;31m \u001b[0mlen\u001b[0m\u001b[0;34m(\u001b[0m\u001b[0mrt\u001b[0m\u001b[0;34m)\u001b[0m\u001b[0;34m\u001b[0m\u001b[0;34m\u001b[0m\u001b[0m\n\u001b[0m",
      "\u001b[0;31mTypeError\u001b[0m: object of type 'new_tw_data' has no len()"
     ]
    }
   ],
   "source": [
    "rt  = new_tw_data(new_files_2, type='retweet')"
   ]
  },
  {
   "cell_type": "code",
   "execution_count": 9,
   "metadata": {},
   "outputs": [
    {
     "name": "stdout",
     "output_type": "stream",
     "text": [
      "8321\n"
     ]
    },
    {
     "data": {
      "text/html": [
       "<div>\n",
       "<style scoped>\n",
       "    .dataframe tbody tr th:only-of-type {\n",
       "        vertical-align: middle;\n",
       "    }\n",
       "\n",
       "    .dataframe tbody tr th {\n",
       "        vertical-align: top;\n",
       "    }\n",
       "\n",
       "    .dataframe thead th {\n",
       "        text-align: right;\n",
       "    }\n",
       "</style>\n",
       "<table border=\"1\" class=\"dataframe\">\n",
       "  <thead>\n",
       "    <tr style=\"text-align: right;\">\n",
       "      <th></th>\n",
       "      <th>RT_id</th>\n",
       "      <th>created_at</th>\n",
       "      <th>user_id</th>\n",
       "      <th>user_name</th>\n",
       "      <th>followers_count</th>\n",
       "      <th>following_count</th>\n",
       "      <th>user_description</th>\n",
       "      <th>text</th>\n",
       "      <th>retweet_count</th>\n",
       "      <th>t_co</th>\n",
       "      <th>tags</th>\n",
       "      <th>urls</th>\n",
       "      <th>lang</th>\n",
       "      <th>created_at_h</th>\n",
       "      <th>tokens</th>\n",
       "    </tr>\n",
       "  </thead>\n",
       "  <tbody>\n",
       "    <tr>\n",
       "      <th>0</th>\n",
       "      <td>1278053836381392896</td>\n",
       "      <td>2020-06-30 13:52:34</td>\n",
       "      <td>30799939</td>\n",
       "      <td>Chinchillazllla</td>\n",
       "      <td>41047</td>\n",
       "      <td>6397</td>\n",
       "      <td>more dumb commentary from the eyepatch lady. E...</td>\n",
       "      <td>she sits on what https://t.co/DHOHecx8iB</td>\n",
       "      <td>1021</td>\n",
       "      <td>https://t.co/DHOHecx8iB</td>\n",
       "      <td>[]</td>\n",
       "      <td>[]</td>\n",
       "      <td>en</td>\n",
       "      <td>2020-06-30 13:00:00</td>\n",
       "      <td>[sit]</td>\n",
       "    </tr>\n",
       "    <tr>\n",
       "      <th>1</th>\n",
       "      <td>1274106956609777664</td>\n",
       "      <td>2020-06-19 16:29:04</td>\n",
       "      <td>319901933</td>\n",
       "      <td>KatieDaviscourt</td>\n",
       "      <td>27362</td>\n",
       "      <td>3990</td>\n",
       "      <td>US &amp; Local Seattle Politics • Conservative • C...</td>\n",
       "      <td>LIBERATE WASHINGTON STATE! 🇺🇸\\n\\nWent into CHA...</td>\n",
       "      <td>243</td>\n",
       "      <td>https://t.co/Q62nqRienE</td>\n",
       "      <td>[#AntifaTerrorists, #seattleprotests, #BlackLi...</td>\n",
       "      <td>[https://t.co/cDkVQFSG7K]</td>\n",
       "      <td>en</td>\n",
       "      <td>2020-06-19 16:00:00</td>\n",
       "      <td>[liberate, washington, state!, 🇺🇸, went, chaz/...</td>\n",
       "    </tr>\n",
       "    <tr>\n",
       "      <th>2</th>\n",
       "      <td>1277830992473047040</td>\n",
       "      <td>2020-06-29 23:07:04</td>\n",
       "      <td>422798683</td>\n",
       "      <td>LatestAnonNews</td>\n",
       "      <td>347101</td>\n",
       "      <td>186</td>\n",
       "      <td>Multiple Anons reporting Anonymous intel, worl...</td>\n",
       "      <td>BREAKING: Three Aurora police officers have be...</td>\n",
       "      <td>139</td>\n",
       "      <td>https://t.co/ni3w3c3XqQ</td>\n",
       "      <td>[#ElijahMcClain., #BlackLivesMatter]</td>\n",
       "      <td>[https://t.co/P82uLYkYJb]</td>\n",
       "      <td>en</td>\n",
       "      <td>2020-06-29 23:00:00</td>\n",
       "      <td>[breaking:, three, aurora, police, officer, pl...</td>\n",
       "    </tr>\n",
       "    <tr>\n",
       "      <th>3</th>\n",
       "      <td>1266604715355312128</td>\n",
       "      <td>2020-05-29 23:37:51</td>\n",
       "      <td>1163289131394334720</td>\n",
       "      <td>psychonegraut</td>\n",
       "      <td>1436</td>\n",
       "      <td>351</td>\n",
       "      <td>♆ + ∞. A door of perception. Yeah, you may lau...</td>\n",
       "      <td>Oh bITCH WE GOT THE AMISH OUT THEY CRIB</td>\n",
       "      <td>146139</td>\n",
       "      <td>https://t.co/IBcGGubFAo</td>\n",
       "      <td>[]</td>\n",
       "      <td>[]</td>\n",
       "      <td>en</td>\n",
       "      <td>2020-05-29 23:00:00</td>\n",
       "      <td>[oh, bitch, got, amish, crib]</td>\n",
       "    </tr>\n",
       "    <tr>\n",
       "      <th>4</th>\n",
       "      <td>1268070997321814016</td>\n",
       "      <td>2020-06-03 00:44:20</td>\n",
       "      <td>2473243064</td>\n",
       "      <td>NairoMK</td>\n",
       "      <td>190921</td>\n",
       "      <td>588</td>\n",
       "      <td>None</td>\n",
       "      <td>Just ended stream! We raised $14,871.54 +$300 ...</td>\n",
       "      <td>1299</td>\n",
       "      <td>https://t.co/QouzORTecL</td>\n",
       "      <td>[#BlackLivesMatter]</td>\n",
       "      <td>[https://t.co/1YUaoe8sjn]</td>\n",
       "      <td>en</td>\n",
       "      <td>2020-06-03 00:00:00</td>\n",
       "      <td>[end, stream!, raise, $14,871.54, +$300, user,...</td>\n",
       "    </tr>\n",
       "  </tbody>\n",
       "</table>\n",
       "</div>"
      ],
      "text/plain": [
       "                 RT_id          created_at              user_id  \\\n",
       "0  1278053836381392896 2020-06-30 13:52:34             30799939   \n",
       "1  1274106956609777664 2020-06-19 16:29:04            319901933   \n",
       "2  1277830992473047040 2020-06-29 23:07:04            422798683   \n",
       "3  1266604715355312128 2020-05-29 23:37:51  1163289131394334720   \n",
       "4  1268070997321814016 2020-06-03 00:44:20           2473243064   \n",
       "\n",
       "         user_name  followers_count  following_count  \\\n",
       "0  Chinchillazllla            41047             6397   \n",
       "1  KatieDaviscourt            27362             3990   \n",
       "2   LatestAnonNews           347101              186   \n",
       "3    psychonegraut             1436              351   \n",
       "4          NairoMK           190921              588   \n",
       "\n",
       "                                    user_description  \\\n",
       "0  more dumb commentary from the eyepatch lady. E...   \n",
       "1  US & Local Seattle Politics • Conservative • C...   \n",
       "2  Multiple Anons reporting Anonymous intel, worl...   \n",
       "3  ♆ + ∞. A door of perception. Yeah, you may lau...   \n",
       "4                                               None   \n",
       "\n",
       "                                                text  retweet_count  \\\n",
       "0           she sits on what https://t.co/DHOHecx8iB           1021   \n",
       "1  LIBERATE WASHINGTON STATE! 🇺🇸\\n\\nWent into CHA...            243   \n",
       "2  BREAKING: Three Aurora police officers have be...            139   \n",
       "3            Oh bITCH WE GOT THE AMISH OUT THEY CRIB         146139   \n",
       "4  Just ended stream! We raised $14,871.54 +$300 ...           1299   \n",
       "\n",
       "                      t_co                                               tags  \\\n",
       "0  https://t.co/DHOHecx8iB                                                 []   \n",
       "1  https://t.co/Q62nqRienE  [#AntifaTerrorists, #seattleprotests, #BlackLi...   \n",
       "2  https://t.co/ni3w3c3XqQ               [#ElijahMcClain., #BlackLivesMatter]   \n",
       "3  https://t.co/IBcGGubFAo                                                 []   \n",
       "4  https://t.co/QouzORTecL                                [#BlackLivesMatter]   \n",
       "\n",
       "                        urls lang        created_at_h  \\\n",
       "0                         []   en 2020-06-30 13:00:00   \n",
       "1  [https://t.co/cDkVQFSG7K]   en 2020-06-19 16:00:00   \n",
       "2  [https://t.co/P82uLYkYJb]   en 2020-06-29 23:00:00   \n",
       "3                         []   en 2020-05-29 23:00:00   \n",
       "4  [https://t.co/1YUaoe8sjn]   en 2020-06-03 00:00:00   \n",
       "\n",
       "                                              tokens  \n",
       "0                                              [sit]  \n",
       "1  [liberate, washington, state!, 🇺🇸, went, chaz/...  \n",
       "2  [breaking:, three, aurora, police, officer, pl...  \n",
       "3                      [oh, bitch, got, amish, crib]  \n",
       "4  [end, stream!, raise, $14,871.54, +$300, user,...  "
      ]
     },
     "execution_count": 9,
     "metadata": {},
     "output_type": "execute_result"
    }
   ],
   "source": [
    "print(len(rt.df))\n",
    "rt.df.head()\n"
   ]
  },
  {
   "cell_type": "code",
   "execution_count": 12,
   "metadata": {},
   "outputs": [
    {
     "data": {
      "text/plain": [
       "'created_at_2020-07-17_14:24:42'"
      ]
     },
     "execution_count": 12,
     "metadata": {},
     "output_type": "execute_result"
    }
   ],
   "source": [
    "current_time = datetime.utcnow() + pd.DateOffset(hours=-6)\n",
    "current_time_s = current_time.strftime('%Y-%m-%d %H:%M:%S')\n",
    "current_time_s\n",
    "current_time_s = pd.to_datetime(current_time_s)\n",
    "\n",
    "time_as_filename = 'created_at_' + str(current_time_s).replace(\" \",\"_\")\n",
    "time_as_filename"
   ]
  },
  {
   "cell_type": "code",
   "execution_count": 15,
   "metadata": {},
   "outputs": [],
   "source": [
    "rt.df.created_at_h = rt.df.created_at_h.astype(str)\n",
    "rt.df.to_json(data_dest + 'data_cumulative/retweet/'+ time_as_filename +'.json', orient='records', lines=True)"
   ]
  },
  {
   "cell_type": "code",
   "execution_count": 19,
   "metadata": {},
   "outputs": [],
   "source": [
    "#rt.df.to_json(data_dest + 'data_cumulative/retweet/2020_all_retweets.json', orient='records', lines=True)"
   ]
  },
  {
   "cell_type": "code",
   "execution_count": 22,
   "metadata": {},
   "outputs": [],
   "source": [
    "cum_retweet = pd.read_json(data_dest + \"data_cumulative/retweet/2020_all_retweets.json\",\n",
    "         lines=True, orient='records')"
   ]
  },
  {
   "cell_type": "code",
   "execution_count": 23,
   "metadata": {},
   "outputs": [
    {
     "data": {
      "text/plain": [
       "(8321, 15)"
      ]
     },
     "execution_count": 23,
     "metadata": {},
     "output_type": "execute_result"
    }
   ],
   "source": [
    "cum_retweet.shape"
   ]
  },
  {
   "cell_type": "code",
   "execution_count": 24,
   "metadata": {},
   "outputs": [
    {
     "data": {
      "text/html": [
       "<div>\n",
       "<style scoped>\n",
       "    .dataframe tbody tr th:only-of-type {\n",
       "        vertical-align: middle;\n",
       "    }\n",
       "\n",
       "    .dataframe tbody tr th {\n",
       "        vertical-align: top;\n",
       "    }\n",
       "\n",
       "    .dataframe thead th {\n",
       "        text-align: right;\n",
       "    }\n",
       "</style>\n",
       "<table border=\"1\" class=\"dataframe\">\n",
       "  <thead>\n",
       "    <tr style=\"text-align: right;\">\n",
       "      <th></th>\n",
       "      <th>RT_id</th>\n",
       "      <th>created_at</th>\n",
       "      <th>user_id</th>\n",
       "      <th>user_name</th>\n",
       "      <th>followers_count</th>\n",
       "      <th>following_count</th>\n",
       "      <th>user_description</th>\n",
       "      <th>text</th>\n",
       "      <th>retweet_count</th>\n",
       "      <th>t_co</th>\n",
       "      <th>tags</th>\n",
       "      <th>urls</th>\n",
       "      <th>lang</th>\n",
       "      <th>created_at_h</th>\n",
       "      <th>tokens</th>\n",
       "    </tr>\n",
       "  </thead>\n",
       "  <tbody>\n",
       "    <tr>\n",
       "      <th>0</th>\n",
       "      <td>1278053836381392896</td>\n",
       "      <td>2020-06-30 13:52:34</td>\n",
       "      <td>30799939</td>\n",
       "      <td>Chinchillazllla</td>\n",
       "      <td>41047</td>\n",
       "      <td>6397</td>\n",
       "      <td>more dumb commentary from the eyepatch lady. E...</td>\n",
       "      <td>she sits on what https://t.co/DHOHecx8iB</td>\n",
       "      <td>1021</td>\n",
       "      <td>https://t.co/DHOHecx8iB</td>\n",
       "      <td>[]</td>\n",
       "      <td>[]</td>\n",
       "      <td>en</td>\n",
       "      <td>2020-06-30 13:00:00</td>\n",
       "      <td>[sit]</td>\n",
       "    </tr>\n",
       "    <tr>\n",
       "      <th>1</th>\n",
       "      <td>1274106956609777664</td>\n",
       "      <td>2020-06-19 16:29:04</td>\n",
       "      <td>319901933</td>\n",
       "      <td>KatieDaviscourt</td>\n",
       "      <td>27362</td>\n",
       "      <td>3990</td>\n",
       "      <td>US &amp; Local Seattle Politics • Conservative • C...</td>\n",
       "      <td>LIBERATE WASHINGTON STATE! 🇺🇸\\n\\nWent into CHA...</td>\n",
       "      <td>243</td>\n",
       "      <td>https://t.co/Q62nqRienE</td>\n",
       "      <td>[#AntifaTerrorists, #seattleprotests, #BlackLi...</td>\n",
       "      <td>[https://t.co/cDkVQFSG7K]</td>\n",
       "      <td>en</td>\n",
       "      <td>2020-06-19 16:00:00</td>\n",
       "      <td>[liberate, washington, state!, 🇺🇸, went, chaz/...</td>\n",
       "    </tr>\n",
       "    <tr>\n",
       "      <th>2</th>\n",
       "      <td>1277830992473047040</td>\n",
       "      <td>2020-06-29 23:07:04</td>\n",
       "      <td>422798683</td>\n",
       "      <td>LatestAnonNews</td>\n",
       "      <td>347101</td>\n",
       "      <td>186</td>\n",
       "      <td>Multiple Anons reporting Anonymous intel, worl...</td>\n",
       "      <td>BREAKING: Three Aurora police officers have be...</td>\n",
       "      <td>139</td>\n",
       "      <td>https://t.co/ni3w3c3XqQ</td>\n",
       "      <td>[#ElijahMcClain., #BlackLivesMatter]</td>\n",
       "      <td>[https://t.co/P82uLYkYJb]</td>\n",
       "      <td>en</td>\n",
       "      <td>2020-06-29 23:00:00</td>\n",
       "      <td>[breaking:, three, aurora, police, officer, pl...</td>\n",
       "    </tr>\n",
       "    <tr>\n",
       "      <th>3</th>\n",
       "      <td>1266604715355312128</td>\n",
       "      <td>2020-05-29 23:37:51</td>\n",
       "      <td>1163289131394334720</td>\n",
       "      <td>psychonegraut</td>\n",
       "      <td>1436</td>\n",
       "      <td>351</td>\n",
       "      <td>♆ + ∞. A door of perception. Yeah, you may lau...</td>\n",
       "      <td>Oh bITCH WE GOT THE AMISH OUT THEY CRIB</td>\n",
       "      <td>146139</td>\n",
       "      <td>https://t.co/IBcGGubFAo</td>\n",
       "      <td>[]</td>\n",
       "      <td>[]</td>\n",
       "      <td>en</td>\n",
       "      <td>2020-05-29 23:00:00</td>\n",
       "      <td>[oh, bitch, got, amish, crib]</td>\n",
       "    </tr>\n",
       "    <tr>\n",
       "      <th>4</th>\n",
       "      <td>1268070997321814016</td>\n",
       "      <td>2020-06-03 00:44:20</td>\n",
       "      <td>2473243064</td>\n",
       "      <td>NairoMK</td>\n",
       "      <td>190921</td>\n",
       "      <td>588</td>\n",
       "      <td>None</td>\n",
       "      <td>Just ended stream! We raised $14,871.54 +$300 ...</td>\n",
       "      <td>1299</td>\n",
       "      <td>https://t.co/QouzORTecL</td>\n",
       "      <td>[#BlackLivesMatter]</td>\n",
       "      <td>[https://t.co/1YUaoe8sjn]</td>\n",
       "      <td>en</td>\n",
       "      <td>2020-06-03 00:00:00</td>\n",
       "      <td>[end, stream!, raise, $14,871.54, +$300, user,...</td>\n",
       "    </tr>\n",
       "  </tbody>\n",
       "</table>\n",
       "</div>"
      ],
      "text/plain": [
       "                 RT_id          created_at              user_id  \\\n",
       "0  1278053836381392896 2020-06-30 13:52:34             30799939   \n",
       "1  1274106956609777664 2020-06-19 16:29:04            319901933   \n",
       "2  1277830992473047040 2020-06-29 23:07:04            422798683   \n",
       "3  1266604715355312128 2020-05-29 23:37:51  1163289131394334720   \n",
       "4  1268070997321814016 2020-06-03 00:44:20           2473243064   \n",
       "\n",
       "         user_name  followers_count  following_count  \\\n",
       "0  Chinchillazllla            41047             6397   \n",
       "1  KatieDaviscourt            27362             3990   \n",
       "2   LatestAnonNews           347101              186   \n",
       "3    psychonegraut             1436              351   \n",
       "4          NairoMK           190921              588   \n",
       "\n",
       "                                    user_description  \\\n",
       "0  more dumb commentary from the eyepatch lady. E...   \n",
       "1  US & Local Seattle Politics • Conservative • C...   \n",
       "2  Multiple Anons reporting Anonymous intel, worl...   \n",
       "3  ♆ + ∞. A door of perception. Yeah, you may lau...   \n",
       "4                                               None   \n",
       "\n",
       "                                                text  retweet_count  \\\n",
       "0           she sits on what https://t.co/DHOHecx8iB           1021   \n",
       "1  LIBERATE WASHINGTON STATE! 🇺🇸\\n\\nWent into CHA...            243   \n",
       "2  BREAKING: Three Aurora police officers have be...            139   \n",
       "3            Oh bITCH WE GOT THE AMISH OUT THEY CRIB         146139   \n",
       "4  Just ended stream! We raised $14,871.54 +$300 ...           1299   \n",
       "\n",
       "                      t_co                                               tags  \\\n",
       "0  https://t.co/DHOHecx8iB                                                 []   \n",
       "1  https://t.co/Q62nqRienE  [#AntifaTerrorists, #seattleprotests, #BlackLi...   \n",
       "2  https://t.co/ni3w3c3XqQ               [#ElijahMcClain., #BlackLivesMatter]   \n",
       "3  https://t.co/IBcGGubFAo                                                 []   \n",
       "4  https://t.co/QouzORTecL                                [#BlackLivesMatter]   \n",
       "\n",
       "                        urls lang         created_at_h  \\\n",
       "0                         []   en  2020-06-30 13:00:00   \n",
       "1  [https://t.co/cDkVQFSG7K]   en  2020-06-19 16:00:00   \n",
       "2  [https://t.co/P82uLYkYJb]   en  2020-06-29 23:00:00   \n",
       "3                         []   en  2020-05-29 23:00:00   \n",
       "4  [https://t.co/1YUaoe8sjn]   en  2020-06-03 00:00:00   \n",
       "\n",
       "                                              tokens  \n",
       "0                                              [sit]  \n",
       "1  [liberate, washington, state!, 🇺🇸, went, chaz/...  \n",
       "2  [breaking:, three, aurora, police, officer, pl...  \n",
       "3                      [oh, bitch, got, amish, crib]  \n",
       "4  [end, stream!, raise, $14,871.54, +$300, user,...  "
      ]
     },
     "execution_count": 24,
     "metadata": {},
     "output_type": "execute_result"
    }
   ],
   "source": [
    "cum_retweet.head()"
   ]
  },
  {
   "cell_type": "code",
   "execution_count": null,
   "metadata": {},
   "outputs": [],
   "source": []
  }
 ],
 "metadata": {
  "kernelspec": {
   "display_name": "Python 3",
   "language": "python",
   "name": "python3"
  },
  "language_info": {
   "codemirror_mode": {
    "name": "ipython",
    "version": 3
   },
   "file_extension": ".py",
   "mimetype": "text/x-python",
   "name": "python",
   "nbconvert_exporter": "python",
   "pygments_lexer": "ipython3",
   "version": "3.7.6"
  }
 },
 "nbformat": 4,
 "nbformat_minor": 4
}
