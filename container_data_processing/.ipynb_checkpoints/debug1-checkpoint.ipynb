{
 "cells": [
  {
   "cell_type": "code",
   "execution_count": 1,
   "metadata": {},
   "outputs": [],
   "source": [
    "from glob import glob \n",
    "from datetime import datetime\n",
    "import numpy as np\n",
    "import pandas as pd\n",
    "\n",
    "from processing_helpers import * \n",
    "from summarizing_helpers import *\n",
    "from city_data_helpers import * \n"
   ]
  },
  {
   "cell_type": "code",
   "execution_count": 2,
   "metadata": {},
   "outputs": [],
   "source": [
    "city='all_v1'\n",
    "data_path = '/Users/kotaminegishi/big_data_training/python/dash_BLM/new_data/app_data/'\n",
    "cum_data_path = data_path + \"data_cumulative/city_date/\" + city\n",
    "base_timestamp = pd.to_datetime(\"2020-08-27 17:50\")"
   ]
  },
  {
   "cell_type": "code",
   "execution_count": null,
   "metadata": {},
   "outputs": [
    {
     "name": "stdout",
     "output_type": "stream",
     "text": [
      "  Loading cumulative data: sentiments and emotions...\n",
      "  Loading cumulative data: words...\n"
     ]
    }
   ],
   "source": [
    "print('  Loading cumulative data: sentiments and emotions...')\n",
    "files_sentiments = keep_recent_files(glob(cum_data_path + \"/sentiments/*\"),\n",
    "                    base_timestamp=base_timestamp, prefix='records_',\n",
    "                    file_type = '.csv', days=14) \n",
    "if len(files_sentiments)>0: \n",
    "    cum_sentiments = tw_data_files_to_df_csv(files_sentiments)\n",
    "    cum_sentiments = cum_sentiments.drop_duplicates(subset = 'id')\n",
    "    fix_datetime(cum_sentiments)\n",
    "    stat_sentiments = calc_stat_sentiments(cum_sentiments)\n",
    "else:\n",
    "    stat_sentiments = null_stat_sentiments\n",
    "\n",
    "files_emotions = keep_recent_files(glob(cum_data_path + \"/emotions/*\"),\n",
    "                    base_timestamp=base_timestamp, prefix='records_',\n",
    "                    file_type = '.csv', days=14)\n",
    "if len(files_emotions)>0:\n",
    "    cum_emotions = tw_data_files_to_df_csv(files_emotions)\n",
    "    cum_emotions = cum_emotions.drop_duplicates(subset = 'id')\n",
    "    fix_datetime(cum_emotions)    \n",
    "    stat_emotions = calc_stat_emotions(cum_emotions)\n",
    "else:\n",
    "    stat_emotions = null_stat_emotions\n",
    "\n",
    "print('  Loading cumulative data: words...')\n",
    "files_words = keep_recent_files(glob(cum_data_path + \"/words/*\"),\n",
    "                                base_timestamp=base_timestamp, prefix='records_',\n",
    "                                file_type = '.json', days=4)#7) \n",
    "\n",
    "if len(files_words)>0:\n",
    "    cum_words = tw_data_files_to_df_json(files_words, lines=True)\n",
    "    fix_datetime(cum_words)\n",
    "    fix_token_counter(cum_words)\n",
    "else:\n",
    "    cum_words = null_cum_words\n"
   ]
  },
  {
   "cell_type": "code",
   "execution_count": null,
   "metadata": {},
   "outputs": [],
   "source": [
    "cum_words"
   ]
  },
  {
   "cell_type": "code",
   "execution_count": 5,
   "metadata": {},
   "outputs": [],
   "source": [
    "files_original = keep_recent_files(glob(cum_data_path + \"/original/*\"),\n",
    "    base_timestamp = base_timestamp, days=4,#7,\n",
    "    prefix='records_', file_type = '.json')\n",
    "if len(files_original)>0:\n",
    "    cum_original = tw_data_files_to_df_json(files_original, lines=True)\n",
    "    fix_datetime(cum_original)        \n",
    "    fix_RT_id(cum_original)"
   ]
  },
  {
   "cell_type": "code",
   "execution_count": 12,
   "metadata": {},
   "outputs": [
    {
     "data": {
      "text/plain": [
       "[]"
      ]
     },
     "execution_count": 12,
     "metadata": {},
     "output_type": "execute_result"
    }
   ],
   "source": []
  },
  {
   "cell_type": "code",
   "execution_count": 13,
   "metadata": {},
   "outputs": [
    {
     "data": {
      "text/plain": [
       "[]"
      ]
     },
     "execution_count": 13,
     "metadata": {},
     "output_type": "execute_result"
    }
   ],
   "source": []
  },
  {
   "cell_type": "code",
   "execution_count": null,
   "metadata": {},
   "outputs": [],
   "source": []
  },
  {
   "cell_type": "code",
   "execution_count": null,
   "metadata": {},
   "outputs": [],
   "source": []
  },
  {
   "cell_type": "code",
   "execution_count": null,
   "metadata": {},
   "outputs": [],
   "source": []
  }
 ],
 "metadata": {
  "kernelspec": {
   "display_name": "Python 3",
   "language": "python",
   "name": "python3"
  },
  "language_info": {
   "codemirror_mode": {
    "name": "ipython",
    "version": 3
   },
   "file_extension": ".py",
   "mimetype": "text/x-python",
   "name": "python",
   "nbconvert_exporter": "python",
   "pygments_lexer": "ipython3",
   "version": "3.7.6"
  }
 },
 "nbformat": 4,
 "nbformat_minor": 2
}
